{
 "cells": [
  {
   "cell_type": "code",
   "execution_count": 1,
   "id": "337e1ef0-e3dc-4f9c-9f81-edbd48ca3cda",
   "metadata": {},
   "outputs": [],
   "source": [
    "import pandas as pd\n",
    "import matplotlib.pyplot as plt\n",
    "import seaborn as sns\n",
    "import sklearn\n",
    "from sklearn.preprocessing import OneHotEncoder\n",
    "from sklearn.model_selection import train_test_split\n",
    "from sklearn.model_selection import RandomizedSearchCV\n",
    "from sklearn.ensemble import RandomForestClassifier\n",
    "from scipy.stats import randint\n",
    "from sklearn.metrics import accuracy_score, confusion_matrix, classification_report, roc_auc_score"
   ]
  },
  {
   "cell_type": "code",
   "execution_count": 2,
   "id": "3dcb01af-bfa0-4743-99b7-565823e2fb07",
   "metadata": {},
   "outputs": [
    {
     "name": "stdout",
     "output_type": "stream",
     "text": [
      "<class 'pandas.core.frame.DataFrame'>\n",
      "RangeIndex: 40000 entries, 0 to 39999\n",
      "Data columns (total 6 columns):\n",
      " #   Column      Non-Null Count  Dtype \n",
      "---  ------      --------------  ----- \n",
      " 0   ID          40000 non-null  object\n",
      " 1   CURR_AGE    40000 non-null  int64 \n",
      " 2   GENDER      40000 non-null  object\n",
      " 3   ANN_INCOME  40000 non-null  object\n",
      " 4   AGE_CAR     40000 non-null  int64 \n",
      " 5   PURCHASE    40000 non-null  int64 \n",
      "dtypes: int64(3), object(3)\n",
      "memory usage: 1.8+ MB\n",
      "None\n",
      "ID            0\n",
      "CURR_AGE      0\n",
      "GENDER        0\n",
      "ANN_INCOME    0\n",
      "AGE_CAR       0\n",
      "PURCHASE      0\n",
      "dtype: int64\n"
     ]
    }
   ],
   "source": [
    "Japan = pd.read_csv('JPN.csv')\n",
    "print(Japan.info())     # Overview of column types\n",
    "print(Japan.isnull().sum())"
   ]
  },
  {
   "cell_type": "code",
   "execution_count": 3,
   "id": "8ff84f62-5bc5-40b3-bb8f-289b7a3e92aa",
   "metadata": {},
   "outputs": [],
   "source": [
    "Japan['ANN_INCOME'] = Japan['ANN_INCOME'].str.replace(',', '').astype(float)"
   ]
  },
  {
   "cell_type": "code",
   "execution_count": 4,
   "id": "25bd86e0-9f88-448f-8a85-980845c48c40",
   "metadata": {},
   "outputs": [],
   "source": [
    "Japan['GENDER'] = Japan['GENDER'].map({'M': 0, 'F': 1})"
   ]
  },
  {
   "cell_type": "code",
   "execution_count": 5,
   "id": "cadff9d0-ebbb-4bc9-9f2e-60aeca3b2f7b",
   "metadata": {},
   "outputs": [
    {
     "name": "stdout",
     "output_type": "stream",
     "text": [
      "           ID  CURR_AGE  GENDER  ANN_INCOME  AGE_CAR  PURCHASE\n",
      "0  00001Q15YJ        50       0    445344.0      439         0\n",
      "1  00003I71CQ        35       0    107634.0      283         0\n",
      "2  00003N47FS        59       1    502787.0      390         1\n",
      "3  00005H41DE        43       0    585664.0      475         0\n",
      "4  00007E17UM        39       1    705723.0      497         1\n",
      "          CURR_AGE        GENDER     ANN_INCOME       AGE_CAR      PURCHASE\n",
      "count  40000.00000  40000.000000   40000.000000  40000.000000  40000.000000\n",
      "mean      44.99745      0.442875  359398.878225    359.080250      0.575775\n",
      "std       11.82008      0.496732  175109.260472    203.063724      0.494231\n",
      "min       25.00000      0.000000   70089.000000      1.000000      0.000000\n",
      "25%       35.00000      0.000000  219766.000000    235.000000      0.000000\n",
      "50%       45.00000      0.000000  337657.000000    331.000000      1.000000\n",
      "75%       55.00000      1.000000  464260.750000    444.000000      1.000000\n",
      "max       65.00000      1.000000  799971.000000   1020.000000      1.000000\n"
     ]
    }
   ],
   "source": [
    "print(Japan.head())     # See first few rows\n",
    "print(Japan.describe()) # For numerical stats"
   ]
  },
  {
   "cell_type": "code",
   "execution_count": 6,
   "id": "3b155aa5-aa96-4adf-92e0-55f9237b41a0",
   "metadata": {},
   "outputs": [
    {
     "name": "stdout",
     "output_type": "stream",
     "text": [
      "<class 'pandas.core.frame.DataFrame'>\n",
      "RangeIndex: 70000 entries, 0 to 69999\n",
      "Data columns (total 5 columns):\n",
      " #   Column      Non-Null Count  Dtype \n",
      "---  ------      --------------  ----- \n",
      " 0   ID          70000 non-null  object\n",
      " 1   CURR_AGE    70000 non-null  int64 \n",
      " 2   GENDER      70000 non-null  object\n",
      " 3   ANN_INCOME  70000 non-null  object\n",
      " 4   DT_MAINT    70000 non-null  object\n",
      "dtypes: int64(1), object(4)\n",
      "memory usage: 2.7+ MB\n",
      "None\n",
      "ID            0\n",
      "CURR_AGE      0\n",
      "GENDER        0\n",
      "ANN_INCOME    0\n",
      "DT_MAINT      0\n",
      "dtype: int64\n"
     ]
    }
   ],
   "source": [
    "India = pd.read_csv(\"IN.csv\")\n",
    "print(India.info())     # Overview of column types\n",
    "print(India.isnull().sum())"
   ]
  },
  {
   "cell_type": "code",
   "execution_count": 7,
   "id": "6676dbe5-9472-4bc0-b146-dee0d89dc889",
   "metadata": {},
   "outputs": [],
   "source": [
    "India['ANN_INCOME'] = India['ANN_INCOME'].str.replace(',', '').astype(float)\n",
    "India['GENDER'] = India['GENDER'].map({'M': 0, 'F': 1})"
   ]
  },
  {
   "cell_type": "code",
   "execution_count": 8,
   "id": "58ec27b5-6bad-4391-9055-2199ec06dcbc",
   "metadata": {},
   "outputs": [],
   "source": [
    "#As age car is not mentioned\n",
    "# Step 1: Convert DT_MAINT to datetime\n",
    "India['DT_MAINT'] = pd.to_datetime(India['DT_MAINT'], errors='coerce')\n",
    "\n",
    "# Step 2: Define reference date\n",
    "ref_date = pd.to_datetime('2019-07-01')\n",
    "\n",
    "# Step 3: Calculate difference in days\n",
    "India['AGE_CAR'] = (ref_date - India['DT_MAINT']).dt.days.round(2)"
   ]
  },
  {
   "cell_type": "code",
   "execution_count": 9,
   "id": "ec46a9cc-883a-4fc1-a38f-23d4343108fc",
   "metadata": {},
   "outputs": [],
   "source": [
    "India.drop('DT_MAINT', axis=1, inplace=True)"
   ]
  },
  {
   "cell_type": "code",
   "execution_count": 10,
   "id": "bd2bea48-edc3-411e-aa57-0b3adea2079e",
   "metadata": {},
   "outputs": [
    {
     "name": "stdout",
     "output_type": "stream",
     "text": [
      "           ID  CURR_AGE  GENDER  ANN_INCOME  AGE_CAR\n",
      "0  20710B05XL        54       0   1425390.0      437\n",
      "1  89602T51HX        47       0   1678954.0      388\n",
      "2  70190Z52IP        60       0    931624.0      700\n",
      "3  25623V15MU        55       1   1106320.0      700\n",
      "4  36230I68CE        32       1    748465.0      155\n",
      "           CURR_AGE        GENDER    ANN_INCOME       AGE_CAR\n",
      "count  70000.000000  70000.000000  7.000000e+04  70000.000000\n",
      "mean      44.995314      0.499586  1.148679e+06    367.326057\n",
      "std       11.822122      0.500003  3.994505e+05    241.999792\n",
      "min       25.000000      0.000000  3.000330e+05      1.000000\n",
      "25%       35.000000      0.000000  8.568238e+05    189.000000\n",
      "50%       45.000000      0.000000  1.125152e+06    340.000000\n",
      "75%       55.000000      1.000000  1.438676e+06    473.000000\n",
      "max       65.000000      1.000000  1.999989e+06   1020.000000\n"
     ]
    }
   ],
   "source": [
    "print(India.head())     # See first few rows\n",
    "print(India.describe()) # For numerical stats"
   ]
  },
  {
   "cell_type": "code",
   "execution_count": 11,
   "id": "4a51b7e4-4b55-45ef-b163-068a2263e27d",
   "metadata": {},
   "outputs": [],
   "source": [
    "def assign_segment(days):\n",
    "    if pd.isnull(days):\n",
    "        return None\n",
    "    elif days < 200:\n",
    "        return 1\n",
    "    elif 200 <= days <= 360:\n",
    "        return 2\n",
    "    elif 360 < days <= 500:\n",
    "        return 3\n",
    "    else:\n",
    "        return 4\n",
    "\n",
    "Japan['AGE_CAR_SEGMENT'] = Japan['AGE_CAR'].apply(assign_segment)\n",
    "India['AGE_CAR_SEGMENT'] = India['AGE_CAR'].apply(assign_segment)"
   ]
  },
  {
   "cell_type": "code",
   "execution_count": 12,
   "id": "2f92b97a-fca9-469b-a324-8ea55e5dcc9c",
   "metadata": {},
   "outputs": [
    {
     "name": "stdout",
     "output_type": "stream",
     "text": [
      "AGE_CAR_SEGMENT\n",
      "1     6459\n",
      "2    16545\n",
      "3    11697\n",
      "4     5299\n",
      "Name: count, dtype: int64\n",
      "AGE_CAR_SEGMENT\n",
      "1    18496\n",
      "2    18994\n",
      "3    18691\n",
      "4    13819\n",
      "Name: count, dtype: int64\n"
     ]
    }
   ],
   "source": [
    "print(Japan['AGE_CAR_SEGMENT'].value_counts(dropna=False).sort_index())\n",
    "print(India['AGE_CAR_SEGMENT'].value_counts(dropna=False).sort_index())"
   ]
  },
  {
   "cell_type": "code",
   "execution_count": 13,
   "id": "85eee8ad-a5d0-44a3-9bc3-84474eb67b33",
   "metadata": {},
   "outputs": [
    {
     "name": "stderr",
     "output_type": "stream",
     "text": [
      "/opt/conda/envs/anaconda-ai-2024.04-py310/lib/python3.10/site-packages/sklearn/preprocessing/_encoders.py:972: FutureWarning: `sparse` was renamed to `sparse_output` in version 1.2 and will be removed in 1.4. `sparse_output` is ignored unless you leave `sparse` to its default value.\n",
      "  warnings.warn(\n"
     ]
    }
   ],
   "source": [
    "#Model :\n",
    "#1.Logistic Regression was selected as a baseline model due to its interpretability and suitability for binary classification.\n",
    "#2.AGE_CAR was bucketed into categorical segments to reflect its non-linear impact on purchase behavior.\n",
    "#3.One-Hot Encoding was used to convert categorical data for modeling.\n",
    "\n",
    "# Select features\n",
    "features = ['CURR_AGE', 'GENDER', 'ANN_INCOME', 'AGE_CAR_SEGMENT']\n",
    "target = 'PURCHASE'\n",
    "\n",
    "# One-Hot Encode 'GENDER' and 'AGE_CAR_SEGMENT'\n",
    "encoder = OneHotEncoder(drop='first', sparse=False)\n",
    "Japan_encoded = pd.DataFrame(encoder.fit_transform(Japan[['GENDER', 'AGE_CAR_SEGMENT']]))\n",
    "Japan_encoded.columns = encoder.get_feature_names_out(['GENDER', 'AGE_CAR_SEGMENT'])\n",
    "Japan_final = pd.concat([Japan[features], Japan_encoded], axis=1).drop(['GENDER', 'AGE_CAR_SEGMENT'], axis=1)\n",
    "Japan_final[target] = Japan[target]"
   ]
  },
  {
   "cell_type": "code",
   "execution_count": 14,
   "id": "f13973d3-e0ec-40e3-a0e8-56c64f2dd6f1",
   "metadata": {},
   "outputs": [],
   "source": [
    "X_Japan = Japan_final.drop('PURCHASE', axis=1)\n",
    "Y_Japan = Japan_final['PURCHASE'].round(1)\n",
    "\n",
    "X_Japan_train, X_Japan_test, Y_Japan_train, Y_Japan_test = train_test_split(\n",
    "    X_Japan, Y_Japan, stratify=Y_Japan, test_size=0.3, random_state=42\n",
    ")"
   ]
  },
  {
   "cell_type": "code",
   "execution_count": 15,
   "id": "3419a506-4f3d-4a7f-b305-21effc848964",
   "metadata": {},
   "outputs": [],
   "source": [
    "rf = RandomForestClassifier(random_state=42)\n",
    "param_dist = {\n",
    "    'n_estimators': randint(50, 200),\n",
    "    'max_depth': [None, 10, 20],\n",
    "    'min_samples_split': [2, 5],\n",
    "    'min_samples_leaf': [1, 2]\n",
    "}\n",
    "\n",
    "random_search = RandomizedSearchCV(\n",
    "    rf, param_distributions=param_dist,\n",
    "    n_iter=10,  # only try 10 combinations\n",
    "    scoring='accuracy',\n",
    "    cv=3,\n",
    "    n_jobs=-1,\n",
    "    random_state=42\n",
    ")\n",
    "random_search.fit(X_Japan_train, Y_Japan_train)\n",
    "model_japan = random_search.best_estimator_"
   ]
  },
  {
   "cell_type": "code",
   "execution_count": 16,
   "id": "d2830ed8-c7d2-41eb-8506-850e536a868b",
   "metadata": {},
   "outputs": [
    {
     "name": "stdout",
     "output_type": "stream",
     "text": [
      "Accuracy: 0.6971666666666667\n",
      "ROC-AUC Score: 0.7789573374370792\n",
      "[[3301 1790]\n",
      " [1844 5065]]\n",
      "              precision    recall  f1-score   support\n",
      "\n",
      "           0       0.64      0.65      0.64      5091\n",
      "           1       0.74      0.73      0.74      6909\n",
      "\n",
      "    accuracy                           0.70     12000\n",
      "   macro avg       0.69      0.69      0.69     12000\n",
      "weighted avg       0.70      0.70      0.70     12000\n",
      "\n"
     ]
    }
   ],
   "source": [
    "Y_Japan_pred = model_japan.predict(X_Japan_test)\n",
    "Y_Japan_prob = model_japan.predict_proba(X_Japan_test)[:, 1]\n",
    "print(\"Accuracy:\", accuracy_score(Y_Japan_test, Y_Japan_pred))\n",
    "print(\"ROC-AUC Score:\", roc_auc_score(Y_Japan_test, Y_Japan_prob))\n",
    "print(confusion_matrix(Y_Japan_test, Y_Japan_pred))\n",
    "print(classification_report(Y_Japan_test, Y_Japan_pred))"
   ]
  },
  {
   "cell_type": "code",
   "execution_count": 17,
   "id": "9da6ca0f-4931-4669-831d-19569757dba6",
   "metadata": {},
   "outputs": [
    {
     "data": {
      "image/png": "[encoded data removed]",
      "text/plain": [
       "<Figure size 800x500 with 1 Axes>"
      ]
     },
     "metadata": {},
     "output_type": "display_data"
    }
   ],
   "source": [
    "# Feature importance\n",
    "importances = model_japan.feature_importances_\n",
    "feature_names = X_Japan_train.columns\n",
    "\n",
    "# Create dataframe for sorting and visualization\n",
    "importance_df = pd.DataFrame({'Feature': feature_names, 'Importance': importances})\n",
    "importance_df = importance_df.sort_values(by='Importance', ascending=False)\n",
    "\n",
    "# Plot\n",
    "plt.figure(figsize=(8, 5))\n",
    "plt.barh(importance_df['Feature'], importance_df['Importance'])\n",
    "plt.xlabel('Feature Importance')\n",
    "plt.title('Random Forest Feature Importances')\n",
    "plt.gca().invert_yaxis()\n",
    "plt.tight_layout()\n",
    "plt.show()"
   ]
  },
  {
   "cell_type": "code",
   "execution_count": 18,
   "id": "a98311e9-ed23-4224-9a3a-fa86a3b768cd",
   "metadata": {},
   "outputs": [
    {
     "name": "stdout",
     "output_type": "stream",
     "text": [
      "['ID', 'CURR_AGE', 'GENDER', 'ANN_INCOME', 'AGE_CAR', 'AGE_CAR_SEGMENT']\n",
      "✅ Potential customers in India (Random Forest): 52369\n"
     ]
    }
   ],
   "source": [
    "print(India.columns.tolist())\n",
    "# 1. Select only relevant columns used in model training\n",
    "India_cleaned = India[['CURR_AGE', 'GENDER', 'ANN_INCOME', 'AGE_CAR', 'AGE_CAR_SEGMENT']].copy()\n",
    "\n",
    "# 2. Encode categorical columns using the same encoder as used on Japan dataset\n",
    "India_encoded = pd.DataFrame(\n",
    "    encoder.transform(India_cleaned[['GENDER', 'AGE_CAR_SEGMENT']]),\n",
    "    columns=encoder.get_feature_names_out(['GENDER', 'AGE_CAR_SEGMENT'])\n",
    ")\n",
    "\n",
    "# 3. Combine numerical and encoded categorical features\n",
    "India_numerical = India_cleaned.drop(['GENDER', 'AGE_CAR_SEGMENT'], axis=1)\n",
    "India_final_rf = pd.concat([India_numerical.reset_index(drop=True), India_encoded.reset_index(drop=True)], axis=1)\n",
    "\n",
    "# 4. Align columns with what Random Forest model was trained on\n",
    "India_final_rf = India_final_rf[model_japan.feature_names_in_]\n",
    "\n",
    "# 5. Predict purchase probabilities and class\n",
    "India['PURCHASE_PROB_RF'] = model_japan.predict_proba(India_final_rf)[:, 1].round(2)\n",
    "India['PREDICTED_PURCHASE_RF'] = (India['PURCHASE_PROB_RF'] >= 0.5).astype(int)\n",
    "\n",
    "# 6. Count potential buyers\n",
    "potential_customers_rf = India['PREDICTED_PURCHASE_RF'].sum()\n",
    "print(\"✅ Potential customers in India (Random Forest):\", potential_customers_rf)\n"
   ]
  },
  {
   "cell_type": "code",
   "execution_count": 19,
   "id": "b718863d-856a-4308-b3fc-2a1a847c34ec",
   "metadata": {
    "scrolled": true
   },
   "outputs": [
    {
     "name": "stdout",
     "output_type": "stream",
     "text": [
      "Accuracy: 0.6971666666666667\n",
      "Confusion Matrix:\n",
      " [[3301 1790]\n",
      " [1844 5065]]\n",
      "Classification Report:\n",
      "               precision    recall  f1-score   support\n",
      "\n",
      "           0       0.64      0.65      0.64      5091\n",
      "           1       0.74      0.73      0.74      6909\n",
      "\n",
      "    accuracy                           0.70     12000\n",
      "   macro avg       0.69      0.69      0.69     12000\n",
      "weighted avg       0.70      0.70      0.70     12000\n",
      "\n",
      "ROC AUC Score: 0.7789573374370792\n"
     ]
    }
   ],
   "source": [
    "# Evaluating the Model\n",
    "print(\"Accuracy:\", accuracy_score(Y_Japan_test, Y_Japan_pred))\n",
    "print(\"Confusion Matrix:\\n\", confusion_matrix(Y_Japan_test, Y_Japan_pred))\n",
    "print(\"Classification Report:\\n\", classification_report(Y_Japan_test, Y_Japan_pred))\n",
    "print(\"ROC AUC Score:\", roc_auc_score(Y_Japan_test, model_japan.predict_proba(X_Japan_test)[:, 1]))"
   ]
  },
  {
   "cell_type": "code",
   "execution_count": null,
   "id": "997c3cf8-5b1c-409c-828c-16eb7e4b2a75",
   "metadata": {},
   "outputs": [],
   "source": [
    "Japan.to_csv(\"cleaned_japan.csv\", index=False)\n",
    "India.to_csv(\"cleaned_india_with_preds.csv\", index=False)\n",
    "# Combining for Tableau\n",
    "Japan['COUNTRY'] = 'JAPAN'\n",
    "India['COUNTRY'] = 'INDIA'\n",
    "\n",
    "# 1. Combine datasets\n",
    "Combined = pd.concat([Japan, India], ignore_index=True)\n",
    "\n",
    "# 2. One-hot encode\n",
    "Combined_encoded = pd.get_dummies(Combined, drop_first=True)\n",
    "\n",
    "# 3. Align with model's expected features\n",
    "expected_cols = model_japan.feature_names_in_\n",
    "\n",
    "for col in expected_cols:\n",
    "    if col not in Combined_encoded.columns:\n",
    "        Combined_encoded[col] = 0\n",
    "\n",
    "Combined_encoded = Combined_encoded[expected_cols]\n",
    "\n",
    "# 4. Predict\n",
    "Combined['PREDICTED_PURCHASE'] = model_japan.predict(Combined_encoded)\n",
    "Combined['PREDICTED_PURCHASE'] = Combined['PREDICTED_PURCHASE'].astype(int)\n",
    "\n",
    "# Save to CSV\n",
    "Combined.to_csv(\"Combined_Predictions.csv\", index=False)\n"
   ]
  },
  {
   "cell_type": "code",
   "execution_count": null,
   "id": "3ac8ef89-0e7d-4671-bb0e-267fcaaa0e96",
   "metadata": {},
   "outputs": [],
   "source": []
  }
 ],
 "metadata": {
  "kernelspec": {
   "display_name": "anaconda-ai-2024.04-py310",
   "language": "python",
   "name": "conda-env-anaconda-ai-2024.04-py310-py"
  },
  "language_info": {
   "codemirror_mode": {
    "name": "ipython",
    "version": 3
   },
   "file_extension": ".py",
   "mimetype": "text/x-python",
   "name": "python",
   "nbconvert_exporter": "python",
   "pygments_lexer": "ipython3",
   "version": "3.10.13"
  }
 },
 "nbformat": 4,
 "nbformat_minor": 5
}
