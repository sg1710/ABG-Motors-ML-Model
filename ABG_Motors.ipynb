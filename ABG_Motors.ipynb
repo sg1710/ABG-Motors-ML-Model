{
 "cells": [
  {
   "cell_type": "code",
   "execution_count": 1,
   "id": "337e1ef0-e3dc-4f9c-9f81-edbd48ca3cda",
   "metadata": {},
   "outputs": [],
   "source": [
    "import pandas as pd\n",
    "import matplotlib.pyplot as plt\n",
    "import sklearn\n",
    "from sklearn.preprocessing import OneHotEncoder\n",
    "from sklearn.model_selection import train_test_split\n",
    "from sklearn.linear_model import LogisticRegression\n",
    "from sklearn.metrics import accuracy_score, confusion_matrix, classification_report, roc_auc_score"
   ]
  },
  {
   "cell_type": "code",
   "execution_count": 2,
   "id": "3dcb01af-bfa0-4743-99b7-565823e2fb07",
   "metadata": {},
   "outputs": [
    {
     "name": "stdout",
     "output_type": "stream",
     "text": [
      "<class 'pandas.core.frame.DataFrame'>\n",
      "RangeIndex: 40000 entries, 0 to 39999\n",
      "Data columns (total 6 columns):\n",
      " #   Column      Non-Null Count  Dtype \n",
      "---  ------      --------------  ----- \n",
      " 0   ID          40000 non-null  object\n",
      " 1   CURR_AGE    40000 non-null  int64 \n",
      " 2   GENDER      40000 non-null  object\n",
      " 3   ANN_INCOME  40000 non-null  object\n",
      " 4   AGE_CAR     40000 non-null  int64 \n",
      " 5   PURCHASE    40000 non-null  int64 \n",
      "dtypes: int64(3), object(3)\n",
      "memory usage: 1.8+ MB\n",
      "None\n",
      "ID            0\n",
      "CURR_AGE      0\n",
      "GENDER        0\n",
      "ANN_INCOME    0\n",
      "AGE_CAR       0\n",
      "PURCHASE      0\n",
      "dtype: int64\n"
     ]
    }
   ],
   "source": [
    "Japan = pd.read_csv('JPN.csv')\n",
    "print(Japan.info())     # Overview of column types\n",
    "print(Japan.isnull().sum())"
   ]
  },
  {
   "cell_type": "code",
   "execution_count": 3,
   "id": "8ff84f62-5bc5-40b3-bb8f-289b7a3e92aa",
   "metadata": {},
   "outputs": [],
   "source": [
    "Japan['ANN_INCOME'] = Japan['ANN_INCOME'].str.replace(',', '').astype(float)"
   ]
  },
  {
   "cell_type": "code",
   "execution_count": 4,
   "id": "25bd86e0-9f88-448f-8a85-980845c48c40",
   "metadata": {},
   "outputs": [],
   "source": [
    "Japan['GENDER'] = Japan['GENDER'].map({'M': 0, 'F': 1})"
   ]
  },
  {
   "cell_type": "code",
   "execution_count": 5,
   "id": "cadff9d0-ebbb-4bc9-9f2e-60aeca3b2f7b",
   "metadata": {},
   "outputs": [
    {
     "name": "stdout",
     "output_type": "stream",
     "text": [
      "           ID  CURR_AGE  GENDER  ANN_INCOME  AGE_CAR  PURCHASE\n",
      "0  00001Q15YJ        50       0    445344.0      439         0\n",
      "1  00003I71CQ        35       0    107634.0      283         0\n",
      "2  00003N47FS        59       1    502787.0      390         1\n",
      "3  00005H41DE        43       0    585664.0      475         0\n",
      "4  00007E17UM        39       1    705723.0      497         1\n",
      "          CURR_AGE        GENDER     ANN_INCOME       AGE_CAR      PURCHASE\n",
      "count  40000.00000  40000.000000   40000.000000  40000.000000  40000.000000\n",
      "mean      44.99745      0.442875  359398.878225    359.080250      0.575775\n",
      "std       11.82008      0.496732  175109.260472    203.063724      0.494231\n",
      "min       25.00000      0.000000   70089.000000      1.000000      0.000000\n",
      "25%       35.00000      0.000000  219766.000000    235.000000      0.000000\n",
      "50%       45.00000      0.000000  337657.000000    331.000000      1.000000\n",
      "75%       55.00000      1.000000  464260.750000    444.000000      1.000000\n",
      "max       65.00000      1.000000  799971.000000   1020.000000      1.000000\n"
     ]
    }
   ],
   "source": [
    "print(Japan.head())     # See first few rows\n",
    "print(Japan.describe()) # For numerical stats"
   ]
  },
  {
   "cell_type": "code",
   "execution_count": 6,
   "id": "3b155aa5-aa96-4adf-92e0-55f9237b41a0",
   "metadata": {},
   "outputs": [
    {
     "name": "stdout",
     "output_type": "stream",
     "text": [
      "<class 'pandas.core.frame.DataFrame'>\n",
      "RangeIndex: 70000 entries, 0 to 69999\n",
      "Data columns (total 5 columns):\n",
      " #   Column      Non-Null Count  Dtype \n",
      "---  ------      --------------  ----- \n",
      " 0   ID          70000 non-null  object\n",
      " 1   CURR_AGE    70000 non-null  int64 \n",
      " 2   GENDER      70000 non-null  object\n",
      " 3   ANN_INCOME  70000 non-null  object\n",
      " 4   DT_MAINT    70000 non-null  object\n",
      "dtypes: int64(1), object(4)\n",
      "memory usage: 2.7+ MB\n",
      "None\n",
      "ID            0\n",
      "CURR_AGE      0\n",
      "GENDER        0\n",
      "ANN_INCOME    0\n",
      "DT_MAINT      0\n",
      "dtype: int64\n"
     ]
    }
   ],
   "source": [
    "India = pd.read_csv(\"IN.csv\")\n",
    "print(India.info())     # Overview of column types\n",
    "print(India.isnull().sum())"
   ]
  },
  {
   "cell_type": "code",
   "execution_count": 7,
   "id": "6676dbe5-9472-4bc0-b146-dee0d89dc889",
   "metadata": {},
   "outputs": [],
   "source": [
    "India['ANN_INCOME'] = India['ANN_INCOME'].str.replace(',', '').astype(float)\n",
    "India['GENDER'] = India['GENDER'].map({'M': 0, 'F': 1})"
   ]
  },
  {
   "cell_type": "code",
   "execution_count": 8,
   "id": "58ec27b5-6bad-4391-9055-2199ec06dcbc",
   "metadata": {},
   "outputs": [],
   "source": [
    "#As age car is not mentioned\n",
    "# Step 1: Convert DT_MAINT to datetime\n",
    "India['DT_MAINT'] = pd.to_datetime(India['DT_MAINT'], errors='coerce')\n",
    "\n",
    "# Step 2: Define reference date\n",
    "ref_date = pd.to_datetime('2019-07-01')\n",
    "\n",
    "# Step 3: Calculate difference in days\n",
    "India['AGE_CAR'] = (ref_date - India['DT_MAINT']).dt.days.round(2)"
   ]
  },
  {
   "cell_type": "code",
   "execution_count": 9,
   "id": "ec46a9cc-883a-4fc1-a38f-23d4343108fc",
   "metadata": {},
   "outputs": [],
   "source": [
    "India.drop('DT_MAINT', axis=1, inplace=True)"
   ]
  },
  {
   "cell_type": "code",
   "execution_count": 10,
   "id": "bd2bea48-edc3-411e-aa57-0b3adea2079e",
   "metadata": {},
   "outputs": [
    {
     "name": "stdout",
     "output_type": "stream",
     "text": [
      "           ID  CURR_AGE  GENDER  ANN_INCOME  AGE_CAR\n",
      "0  20710B05XL        54       0   1425390.0      437\n",
      "1  89602T51HX        47       0   1678954.0      388\n",
      "2  70190Z52IP        60       0    931624.0      700\n",
      "3  25623V15MU        55       1   1106320.0      700\n",
      "4  36230I68CE        32       1    748465.0      155\n",
      "           CURR_AGE        GENDER    ANN_INCOME       AGE_CAR\n",
      "count  70000.000000  70000.000000  7.000000e+04  70000.000000\n",
      "mean      44.995314      0.499586  1.148679e+06    367.326057\n",
      "std       11.822122      0.500003  3.994505e+05    241.999792\n",
      "min       25.000000      0.000000  3.000330e+05      1.000000\n",
      "25%       35.000000      0.000000  8.568238e+05    189.000000\n",
      "50%       45.000000      0.000000  1.125152e+06    340.000000\n",
      "75%       55.000000      1.000000  1.438676e+06    473.000000\n",
      "max       65.000000      1.000000  1.999989e+06   1020.000000\n"
     ]
    }
   ],
   "source": [
    "print(India.head())     # See first few rows\n",
    "print(India.describe()) # For numerical stats"
   ]
  },
  {
   "cell_type": "code",
   "execution_count": 11,
   "id": "4a51b7e4-4b55-45ef-b163-068a2263e27d",
   "metadata": {},
   "outputs": [],
   "source": [
    "def assign_segment(days):\n",
    "    if pd.isnull(days):\n",
    "        return None\n",
    "    elif days < 200:\n",
    "        return 1\n",
    "    elif 200 <= days <= 360:\n",
    "        return 2\n",
    "    elif 360 < days <= 500:\n",
    "        return 3\n",
    "    else:\n",
    "        return 4\n",
    "\n",
    "Japan['AGE_CAR_SEGMENT'] = Japan['AGE_CAR'].apply(assign_segment)\n",
    "India['AGE_CAR_SEGMENT'] = India['AGE_CAR'].apply(assign_segment)"
   ]
  },
  {
   "cell_type": "code",
   "execution_count": 12,
   "id": "2f92b97a-fca9-469b-a324-8ea55e5dcc9c",
   "metadata": {},
   "outputs": [
    {
     "name": "stdout",
     "output_type": "stream",
     "text": [
      "AGE_CAR_SEGMENT\n",
      "1     6459\n",
      "2    16545\n",
      "3    11697\n",
      "4     5299\n",
      "Name: count, dtype: int64\n",
      "AGE_CAR_SEGMENT\n",
      "1    18496\n",
      "2    18994\n",
      "3    18691\n",
      "4    13819\n",
      "Name: count, dtype: int64\n"
     ]
    }
   ],
   "source": [
    "print(Japan['AGE_CAR_SEGMENT'].value_counts(dropna=False).sort_index())\n",
    "print(India['AGE_CAR_SEGMENT'].value_counts(dropna=False).sort_index())"
   ]
  },
  {
   "cell_type": "code",
   "execution_count": 13,
   "id": "85eee8ad-a5d0-44a3-9bc3-84474eb67b33",
   "metadata": {},
   "outputs": [
    {
     "name": "stderr",
     "output_type": "stream",
     "text": [
      "/opt/conda/envs/anaconda-ai-2024.04-py310/lib/python3.10/site-packages/sklearn/preprocessing/_encoders.py:972: FutureWarning: `sparse` was renamed to `sparse_output` in version 1.2 and will be removed in 1.4. `sparse_output` is ignored unless you leave `sparse` to its default value.\n",
      "  warnings.warn(\n"
     ]
    }
   ],
   "source": [
    "#Model :\n",
    "#1.Logistic Regression was selected as a baseline model due to its interpretability and suitability for binary classification.\n",
    "#2.AGE_CAR was bucketed into categorical segments to reflect its non-linear impact on purchase behavior.\n",
    "#3.One-Hot Encoding was used to convert categorical data for modeling.\n",
    "\n",
    "# Select features\n",
    "features = ['CURR_AGE', 'GENDER', 'ANN_INCOME', 'AGE_CAR_SEGMENT']\n",
    "target = 'PURCHASE'\n",
    "\n",
    "# One-Hot Encode 'GENDER' and 'AGE_CAR_SEGMENT'\n",
    "encoder = OneHotEncoder(drop='first', sparse=False)\n",
    "Japan_encoded = pd.DataFrame(encoder.fit_transform(Japan[['GENDER', 'AGE_CAR_SEGMENT']]))\n",
    "Japan_encoded.columns = encoder.get_feature_names_out(['GENDER', 'AGE_CAR_SEGMENT'])\n",
    "Japan_final = pd.concat([Japan[features], Japan_encoded], axis=1).drop(['GENDER', 'AGE_CAR_SEGMENT'], axis=1)\n",
    "Japan_final[target] = Japan[target]"
   ]
  },
  {
   "cell_type": "code",
   "execution_count": 14,
   "id": "f13973d3-e0ec-40e3-a0e8-56c64f2dd6f1",
   "metadata": {},
   "outputs": [],
   "source": [
    "X_Japan = Japan_final.drop('PURCHASE', axis=1)\n",
    "Y_Japan = Japan_final['PURCHASE'].round(1)\n",
    "\n",
    "X_Japan_train, X_Japan_test, Y_Japan_train, Y_Japan_test = train_test_split(X_Japan, Y_Japan, test_size=0.3, random_state=42)"
   ]
  },
  {
   "cell_type": "code",
   "execution_count": 15,
   "id": "8c6bd692-228e-4962-b731-544615e5a402",
   "metadata": {},
   "outputs": [
    {
     "data": {
      "text/html": [
       "<style>#sk-container-id-1 {color: black;}#sk-container-id-1 pre{padding: 0;}#sk-container-id-1 div.sk-toggleable {background-color: white;}#sk-container-id-1 label.sk-toggleable__label {cursor: pointer;display: block;width: 100%;margin-bottom: 0;padding: 0.3em;box-sizing: border-box;text-align: center;}#sk-container-id-1 label.sk-toggleable__label-arrow:before {content: \"▸\";float: left;margin-right: 0.25em;color: #696969;}#sk-container-id-1 label.sk-toggleable__label-arrow:hover:before {color: black;}#sk-container-id-1 div.sk-estimator:hover label.sk-toggleable__label-arrow:before {color: black;}#sk-container-id-1 div.sk-toggleable__content {max-height: 0;max-width: 0;overflow: hidden;text-align: left;background-color: #f0f8ff;}#sk-container-id-1 div.sk-toggleable__content pre {margin: 0.2em;color: black;border-radius: 0.25em;background-color: #f0f8ff;}#sk-container-id-1 input.sk-toggleable__control:checked~div.sk-toggleable__content {max-height: 200px;max-width: 100%;overflow: auto;}#sk-container-id-1 input.sk-toggleable__control:checked~label.sk-toggleable__label-arrow:before {content: \"▾\";}#sk-container-id-1 div.sk-estimator input.sk-toggleable__control:checked~label.sk-toggleable__label {background-color: #d4ebff;}#sk-container-id-1 div.sk-label input.sk-toggleable__control:checked~label.sk-toggleable__label {background-color: #d4ebff;}#sk-container-id-1 input.sk-hidden--visually {border: 0;clip: rect(1px 1px 1px 1px);clip: rect(1px, 1px, 1px, 1px);height: 1px;margin: -1px;overflow: hidden;padding: 0;position: absolute;width: 1px;}#sk-container-id-1 div.sk-estimator {font-family: monospace;background-color: #f0f8ff;border: 1px dotted black;border-radius: 0.25em;box-sizing: border-box;margin-bottom: 0.5em;}#sk-container-id-1 div.sk-estimator:hover {background-color: #d4ebff;}#sk-container-id-1 div.sk-parallel-item::after {content: \"\";width: 100%;border-bottom: 1px solid gray;flex-grow: 1;}#sk-container-id-1 div.sk-label:hover label.sk-toggleable__label {background-color: #d4ebff;}#sk-container-id-1 div.sk-serial::before {content: \"\";position: absolute;border-left: 1px solid gray;box-sizing: border-box;top: 0;bottom: 0;left: 50%;z-index: 0;}#sk-container-id-1 div.sk-serial {display: flex;flex-direction: column;align-items: center;background-color: white;padding-right: 0.2em;padding-left: 0.2em;position: relative;}#sk-container-id-1 div.sk-item {position: relative;z-index: 1;}#sk-container-id-1 div.sk-parallel {display: flex;align-items: stretch;justify-content: center;background-color: white;position: relative;}#sk-container-id-1 div.sk-item::before, #sk-container-id-1 div.sk-parallel-item::before {content: \"\";position: absolute;border-left: 1px solid gray;box-sizing: border-box;top: 0;bottom: 0;left: 50%;z-index: -1;}#sk-container-id-1 div.sk-parallel-item {display: flex;flex-direction: column;z-index: 1;position: relative;background-color: white;}#sk-container-id-1 div.sk-parallel-item:first-child::after {align-self: flex-end;width: 50%;}#sk-container-id-1 div.sk-parallel-item:last-child::after {align-self: flex-start;width: 50%;}#sk-container-id-1 div.sk-parallel-item:only-child::after {width: 0;}#sk-container-id-1 div.sk-dashed-wrapped {border: 1px dashed gray;margin: 0 0.4em 0.5em 0.4em;box-sizing: border-box;padding-bottom: 0.4em;background-color: white;}#sk-container-id-1 div.sk-label label {font-family: monospace;font-weight: bold;display: inline-block;line-height: 1.2em;}#sk-container-id-1 div.sk-label-container {text-align: center;}#sk-container-id-1 div.sk-container {/* jupyter's `normalize.less` sets `[hidden] { display: none; }` but bootstrap.min.css set `[hidden] { display: none !important; }` so we also need the `!important` here to be able to override the default hidden behavior on the sphinx rendered scikit-learn.org. See: https://github.com/scikit-learn/scikit-learn/issues/21755 */display: inline-block !important;position: relative;}#sk-container-id-1 div.sk-text-repr-fallback {display: none;}</style><div id=\"sk-container-id-1\" class=\"sk-top-container\"><div class=\"sk-text-repr-fallback\"><pre>LogisticRegression()</pre><b>In a Jupyter environment, please rerun this cell to show the HTML representation or trust the notebook. <br />On GitHub, the HTML representation is unable to render, please try loading this page with nbviewer.org.</b></div><div class=\"sk-container\" hidden><div class=\"sk-item\"><div class=\"sk-estimator sk-toggleable\"><input class=\"sk-toggleable__control sk-hidden--visually\" id=\"sk-estimator-id-1\" type=\"checkbox\" checked><label for=\"sk-estimator-id-1\" class=\"sk-toggleable__label sk-toggleable__label-arrow\">LogisticRegression</label><div class=\"sk-toggleable__content\"><pre>LogisticRegression()</pre></div></div></div></div></div>"
      ],
      "text/plain": [
       "LogisticRegression()"
      ]
     },
     "execution_count": 15,
     "metadata": {},
     "output_type": "execute_result"
    }
   ],
   "source": [
    "model_japan = LogisticRegression()\n",
    "model_japan.fit(X_Japan_train, Y_Japan_train)"
   ]
  },
  {
   "cell_type": "code",
   "execution_count": 16,
   "id": "6784b868-8347-4e09-9255-28b3219b3c1e",
   "metadata": {},
   "outputs": [],
   "source": [
    "Y_Japan_pred = model_japan.predict(X_Japan_test)"
   ]
  },
  {
   "cell_type": "code",
   "execution_count": 17,
   "id": "18c376b2-babf-4bb7-b277-f8038f65cd7c",
   "metadata": {},
   "outputs": [
    {
     "name": "stdout",
     "output_type": "stream",
     "text": [
      "             Feature   Coefficient\n",
      "1         ANN_INCOME  1.038413e-06\n",
      "4  AGE_CAR_SEGMENT_3  6.725100e-12\n",
      "0           CURR_AGE  4.743245e-12\n",
      "5  AGE_CAR_SEGMENT_4  3.699234e-12\n",
      "2           GENDER_1 -8.993006e-13\n",
      "3  AGE_CAR_SEGMENT_2 -6.567254e-12\n"
     ]
    }
   ],
   "source": [
    "coefficients = pd.DataFrame({\n",
    "    'Feature': X_Japan.columns,\n",
    "    'Coefficient': model_japan.coef_[0]\n",
    "})\n",
    "print(coefficients.sort_values(by='Coefficient', ascending=False))"
   ]
  },
  {
   "cell_type": "code",
   "execution_count": 18,
   "id": "bd8fc2ca-b7a4-4100-8451-4c30280ad674",
   "metadata": {},
   "outputs": [
    {
     "name": "stdout",
     "output_type": "stream",
     "text": [
      "A 1-unit increase in CURR_AGE has a positive effect on the probability of purchasing.\n",
      "A 1-unit increase in ANN_INCOME has a positive effect on the probability of purchasing.\n",
      "A 1-unit increase in GENDER_1 has a negative effect on the probability of purchasing.\n",
      "A 1-unit increase in AGE_CAR_SEGMENT_2 has a negative effect on the probability of purchasing.\n",
      "A 1-unit increase in AGE_CAR_SEGMENT_3 has a positive effect on the probability of purchasing.\n",
      "A 1-unit increase in AGE_CAR_SEGMENT_4 has a positive effect on the probability of purchasing.\n"
     ]
    }
   ],
   "source": [
    "# Add interpretation\n",
    "# A positive coefficient for \"ANN_INCOME\" suggests higher-income individuals are more likely to purchase.\n",
    "# A negative coefficient for \"AGE_CAR_SEGMENT_4\" implies that very old cars are associated with lower purchase probability.\n",
    "\n",
    "for _, row in coefficients.iterrows():\n",
    "    direction = \"positive\" if row['Coefficient'] > 0 else \"negative\"\n",
    "    print(f\"A 1-unit increase in {row['Feature']} has a {direction} effect on the probability of purchasing.\")"
   ]
  },
  {
   "cell_type": "code",
   "execution_count": 19,
   "id": "d2830ed8-c7d2-41eb-8506-850e536a868b",
   "metadata": {},
   "outputs": [
    {
     "name": "stdout",
     "output_type": "stream",
     "text": [
      "Accuracy: 0.58225\n",
      "ROC-AUC Score: 0.6125372300231792\n",
      "[[   0 5013]\n",
      " [   0 6987]]\n",
      "              precision    recall  f1-score   support\n",
      "\n",
      "           0       0.00      0.00      0.00      5013\n",
      "           1       0.58      1.00      0.74      6987\n",
      "\n",
      "    accuracy                           0.58     12000\n",
      "   macro avg       0.29      0.50      0.37     12000\n",
      "weighted avg       0.34      0.58      0.43     12000\n",
      "\n"
     ]
    },
    {
     "name": "stderr",
     "output_type": "stream",
     "text": [
      "/opt/conda/envs/anaconda-ai-2024.04-py310/lib/python3.10/site-packages/sklearn/metrics/_classification.py:1469: UndefinedMetricWarning: Precision and F-score are ill-defined and being set to 0.0 in labels with no predicted samples. Use `zero_division` parameter to control this behavior.\n",
      "  _warn_prf(average, modifier, msg_start, len(result))\n",
      "/opt/conda/envs/anaconda-ai-2024.04-py310/lib/python3.10/site-packages/sklearn/metrics/_classification.py:1469: UndefinedMetricWarning: Precision and F-score are ill-defined and being set to 0.0 in labels with no predicted samples. Use `zero_division` parameter to control this behavior.\n",
      "  _warn_prf(average, modifier, msg_start, len(result))\n",
      "/opt/conda/envs/anaconda-ai-2024.04-py310/lib/python3.10/site-packages/sklearn/metrics/_classification.py:1469: UndefinedMetricWarning: Precision and F-score are ill-defined and being set to 0.0 in labels with no predicted samples. Use `zero_division` parameter to control this behavior.\n",
      "  _warn_prf(average, modifier, msg_start, len(result))\n"
     ]
    }
   ],
   "source": [
    "Y_Japan_pred = model_japan.predict(X_Japan_test)\n",
    "Y_Japan_prob = model_japan.predict_proba(X_Japan_test)[:, 1]\n",
    "print(\"Accuracy:\", accuracy_score(Y_Japan_test, Y_Japan_pred))\n",
    "print(\"ROC-AUC Score:\", roc_auc_score(Y_Japan_test, Y_Japan_prob))\n",
    "print(confusion_matrix(Y_Japan_test, Y_Japan_pred))\n",
    "print(classification_report(Y_Japan_test, Y_Japan_pred))"
   ]
  },
  {
   "cell_type": "code",
   "execution_count": 20,
   "id": "a98311e9-ed23-4224-9a3a-fa86a3b768cd",
   "metadata": {},
   "outputs": [
    {
     "name": "stdout",
     "output_type": "stream",
     "text": [
      "Potential customers in India: 70000\n"
     ]
    }
   ],
   "source": [
    "# Encoding India dataset similarly\n",
    "India_encoded = pd.DataFrame(encoder.transform(India[['GENDER', 'AGE_CAR_SEGMENT']]))\n",
    "India_encoded.columns = encoder.get_feature_names_out(['GENDER', 'AGE_CAR_SEGMENT'])\n",
    "\n",
    "India_final = pd.concat([India[features], India_encoded], axis=1).drop(['GENDER', 'AGE_CAR_SEGMENT'], axis=1)\n",
    "\n",
    "# Predicting probabilities\n",
    "India['PURCHASE_PROB'] = model_japan.predict_proba(India_final).round(2)[:, 1]\n",
    "India['PREDICTED_PURCHASE'] = (India['PURCHASE_PROB'] >= 0.5).astype(int)\n",
    "\n",
    "# Count of potential customers\n",
    "potential_buyers = India['PREDICTED_PURCHASE'].sum()\n",
    "print(\"Potential customers in India:\", potential_buyers)\n"
   ]
  },
  {
   "cell_type": "code",
   "execution_count": 21,
   "id": "b718863d-856a-4308-b3fc-2a1a847c34ec",
   "metadata": {
    "scrolled": true
   },
   "outputs": [
    {
     "name": "stdout",
     "output_type": "stream",
     "text": [
      "Accuracy: 0.58225\n",
      "Confusion Matrix:\n",
      " [[   0 5013]\n",
      " [   0 6987]]\n",
      "Classification Report:\n",
      "               precision    recall  f1-score   support\n",
      "\n",
      "           0       0.00      0.00      0.00      5013\n",
      "           1       0.58      1.00      0.74      6987\n",
      "\n",
      "    accuracy                           0.58     12000\n",
      "   macro avg       0.29      0.50      0.37     12000\n",
      "weighted avg       0.34      0.58      0.43     12000\n",
      "\n",
      "ROC AUC Score: 0.6125372300231792\n"
     ]
    },
    {
     "name": "stderr",
     "output_type": "stream",
     "text": [
      "/opt/conda/envs/anaconda-ai-2024.04-py310/lib/python3.10/site-packages/sklearn/metrics/_classification.py:1469: UndefinedMetricWarning: Precision and F-score are ill-defined and being set to 0.0 in labels with no predicted samples. Use `zero_division` parameter to control this behavior.\n",
      "  _warn_prf(average, modifier, msg_start, len(result))\n",
      "/opt/conda/envs/anaconda-ai-2024.04-py310/lib/python3.10/site-packages/sklearn/metrics/_classification.py:1469: UndefinedMetricWarning: Precision and F-score are ill-defined and being set to 0.0 in labels with no predicted samples. Use `zero_division` parameter to control this behavior.\n",
      "  _warn_prf(average, modifier, msg_start, len(result))\n",
      "/opt/conda/envs/anaconda-ai-2024.04-py310/lib/python3.10/site-packages/sklearn/metrics/_classification.py:1469: UndefinedMetricWarning: Precision and F-score are ill-defined and being set to 0.0 in labels with no predicted samples. Use `zero_division` parameter to control this behavior.\n",
      "  _warn_prf(average, modifier, msg_start, len(result))\n"
     ]
    }
   ],
   "source": [
    "# Evaluating the Model\n",
    "print(\"Accuracy:\", accuracy_score(Y_Japan_test, Y_Japan_pred))\n",
    "print(\"Confusion Matrix:\\n\", confusion_matrix(Y_Japan_test, Y_Japan_pred))\n",
    "print(\"Classification Report:\\n\", classification_report(Y_Japan_test, Y_Japan_pred))\n",
    "print(\"ROC AUC Score:\", roc_auc_score(Y_Japan_test, model_japan.predict_proba(X_Japan_test)[:, 1]))"
   ]
  },
  {
   "cell_type": "code",
   "execution_count": 22,
   "id": "ae52850c-d44f-4a2f-a9b3-cb03dd867be7",
   "metadata": {},
   "outputs": [
    {
     "name": "stdout",
     "output_type": "stream",
     "text": [
      "A 1-unit increase in CURR_AGE has a positive effect on the probability of purchasing.\n",
      "A 1-unit increase in ANN_INCOME has a positive effect on the probability of purchasing.\n",
      "A 1-unit increase in GENDER_1 has a negative effect on the probability of purchasing.\n",
      "A 1-unit increase in AGE_CAR_SEGMENT_2 has a negative effect on the probability of purchasing.\n",
      "A 1-unit increase in AGE_CAR_SEGMENT_3 has a positive effect on the probability of purchasing.\n",
      "A 1-unit increase in AGE_CAR_SEGMENT_4 has a positive effect on the probability of purchasing.\n"
     ]
    }
   ],
   "source": [
    "# Interpreting coefficients\n",
    "for _, row in coefficients.iterrows():\n",
    "    direction = \"positive\" if row['Coefficient'] > 0 else \"negative\"\n",
    "    print(f\"A 1-unit increase in {row['Feature']} has a {direction} effect on the probability of purchasing.\")"
   ]
  },
  {
   "cell_type": "code",
   "execution_count": 23,
   "id": "997c3cf8-5b1c-409c-828c-16eb7e4b2a75",
   "metadata": {},
   "outputs": [],
   "source": [
    "Japan.to_csv(\"cleaned_japan.csv\", index=False)\n",
    "India.to_csv(\"cleaned_india_with_preds.csv\", index=False)"
   ]
  },
  {
   "cell_type": "code",
   "execution_count": 24,
   "id": "a477f6d4-1034-465a-9c9d-288c38b432e9",
   "metadata": {},
   "outputs": [],
   "source": [
    "# Combining for Tableau\n",
    "Japan['COUNTRY'] = 'JAPAN'\n",
    "India['COUNTRY'] = 'INDIA'\n",
    "\n",
    "# Combining datasets\n",
    "Combined = pd.concat([Japan, India], ignore_index=True)\n",
    "\n",
    "# Converting PURCHASE to integer\n",
    "Combined['PURCHASE'] = Combined['PURCHASE'].fillna(0).astype(int)\n",
    "\n",
    "# Converting PREDICTED_PURCHASE to integer \n",
    "Combined['PREDICTED_PURCHASE'] = Combined['PREDICTED_PURCHASE'].fillna(0).astype(int)\n",
    "\n",
    "#Converting Gender into text form\n",
    "# For combined dataset\n",
    "Combined['GENDER'] = Combined['GENDER'].replace({0: 'M', 1: 'F'})\n",
    "\n",
    "# Saving combined dataset\n",
    "Combined.to_csv(\"Combined.csv\", index=False)"
   ]
  }
 ],
 "metadata": {
  "kernelspec": {
   "display_name": "anaconda-ai-2024.04-py310",
   "language": "python",
   "name": "conda-env-anaconda-ai-2024.04-py310-py"
  },
  "language_info": {
   "codemirror_mode": {
    "name": "ipython",
    "version": 3
   },
   "file_extension": ".py",
   "mimetype": "text/x-python",
   "name": "python",
   "nbconvert_exporter": "python",
   "pygments_lexer": "ipython3",
   "version": "3.10.13"
  }
 },
 "nbformat": 4,
 "nbformat_minor": 5
}
